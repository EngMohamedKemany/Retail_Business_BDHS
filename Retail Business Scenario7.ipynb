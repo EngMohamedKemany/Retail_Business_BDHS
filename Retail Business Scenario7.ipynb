{
 "cells": [
  {
   "cell_type": "code",
   "execution_count": 1,
   "id": "eb2eeb45",
   "metadata": {},
   "outputs": [],
   "source": [
    "import pyspark\n",
    "from pyspark.sql import SparkSession\n",
    "\n",
    "spark = SparkSession.builder \\\n",
    "        .master(\"local[*]\") \\\n",
    "        .getOrCreate()"
   ]
  },
  {
   "cell_type": "code",
   "execution_count": 44,
   "id": "f662f41a",
   "metadata": {},
   "outputs": [],
   "source": [
    "from pyspark.sql.functions import to_date\n",
    "from pyspark.sql import functions as F"
   ]
  },
  {
   "cell_type": "code",
   "execution_count": 2,
   "id": "3c63f9f9",
   "metadata": {},
   "outputs": [],
   "source": [
    "path_orders_pq = \"data-files/orders_parquet/orders_parquet.parquet\""
   ]
  },
  {
   "cell_type": "code",
   "execution_count": 3,
   "id": "da9fbe1a",
   "metadata": {},
   "outputs": [],
   "source": [
    "df_orders =  spark.read.format('parquet')\\\n",
    "            .load(path_orders_pq)"
   ]
  },
  {
   "cell_type": "code",
   "execution_count": 42,
   "id": "1fffe2f3",
   "metadata": {},
   "outputs": [],
   "source": [
    "result_orders = df_orders.filter(df_orders.order_status == \"PENDING_PAYMENT\") \\\n",
    ".filter((F.year('order_date') == 2013) & (F.month('order_date') == 7))\n",
    "                            "
   ]
  },
  {
   "cell_type": "code",
   "execution_count": 45,
   "id": "144878e8",
   "metadata": {},
   "outputs": [],
   "source": [
    "result_orders = result_orders.select(to_date(F.col('order_date')).alias('order_date'), \\\n",
    "                                     F.col('order_status'))"
   ]
  },
  {
   "cell_type": "code",
   "execution_count": 47,
   "id": "5efaab63",
   "metadata": {},
   "outputs": [],
   "source": [
    "result_orders.write.mode('Overwrite') \\\n",
    ".option(\"compression\", \"snappy\") \\\n",
    ".json('result/scenario7/solution')"
   ]
  }
 ],
 "metadata": {
  "kernelspec": {
   "display_name": "Python 3",
   "language": "python",
   "name": "python3"
  },
  "language_info": {
   "codemirror_mode": {
    "name": "ipython",
    "version": 3
   },
   "file_extension": ".py",
   "mimetype": "text/x-python",
   "name": "python",
   "nbconvert_exporter": "python",
   "pygments_lexer": "ipython3",
   "version": "3.9.11"
  }
 },
 "nbformat": 4,
 "nbformat_minor": 5
}
