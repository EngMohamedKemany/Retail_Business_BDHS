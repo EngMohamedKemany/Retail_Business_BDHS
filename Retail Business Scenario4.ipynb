{
 "cells": [
  {
   "cell_type": "code",
   "execution_count": 3,
   "id": "d6fe3c04",
   "metadata": {},
   "outputs": [],
   "source": [
    "import pyspark\n",
    "from pyspark.sql import SparkSession\n",
    "\n",
    "spark = SparkSession.builder \\\n",
    "        .master(\"local[*]\") \\\n",
    "        .getOrCreate()"
   ]
  },
  {
   "cell_type": "code",
   "execution_count": 9,
   "id": "8530b3e0",
   "metadata": {},
   "outputs": [],
   "source": [
    "import pandas as pd\n",
    "from pyspark.sql import types\n",
    "from pyspark.sql import functions as F"
   ]
  },
  {
   "cell_type": "code",
   "execution_count": 10,
   "id": "354d55df",
   "metadata": {},
   "outputs": [],
   "source": [
    "path = \"data-files/categories/part-m-00000\""
   ]
  },
  {
   "cell_type": "code",
   "execution_count": 11,
   "id": "b7699bd7",
   "metadata": {},
   "outputs": [],
   "source": [
    "\n",
    "schema = types.StructType([\n",
    "types.StructField('id', types.IntegerType(), True),\n",
    "types.StructField('dept_id', types.IntegerType(), True), \n",
    "types.StructField('name', types.StringType(), True)\n",
    "\n",
    "])"
   ]
  },
  {
   "cell_type": "code",
   "execution_count": 12,
   "id": "c53d13cd",
   "metadata": {},
   "outputs": [],
   "source": [
    "df =  spark.read.format('csv')\\\n",
    "        .schema(schema)\\\n",
    "        .load(path)"
   ]
  },
  {
   "cell_type": "code",
   "execution_count": 13,
   "id": "374a0b09",
   "metadata": {},
   "outputs": [
    {
     "name": "stdout",
     "output_type": "stream",
     "text": [
      "+---+-------+-------------------+\n",
      "| id|dept_id|               name|\n",
      "+---+-------+-------------------+\n",
      "|  1|      2|           Football|\n",
      "|  2|      2|             Soccer|\n",
      "|  3|      2|Baseball & Softball|\n",
      "|  4|      2|         Basketball|\n",
      "|  5|      2|           Lacrosse|\n",
      "|  6|      2|   Tennis & Racquet|\n",
      "|  7|      2|             Hockey|\n",
      "|  8|      2|        More Sports|\n",
      "|  9|      3|   Cardio Equipment|\n",
      "| 10|      3|  Strength Training|\n",
      "| 11|      3|Fitness Accessories|\n",
      "| 12|      3|       Boxing & MMA|\n",
      "| 13|      3|        Electronics|\n",
      "| 14|      3|     Yoga & Pilates|\n",
      "| 15|      3|  Training by Sport|\n",
      "| 16|      3|    As Seen on  TV!|\n",
      "| 17|      4|             Cleats|\n",
      "| 18|      4|     Men's Footwear|\n",
      "| 19|      4|   Women's Footwear|\n",
      "| 20|      4|     Kids' Footwear|\n",
      "+---+-------+-------------------+\n",
      "only showing top 20 rows\n",
      "\n"
     ]
    }
   ],
   "source": [
    "df.show()"
   ]
  },
  {
   "cell_type": "code",
   "execution_count": 14,
   "id": "fb68f5e9",
   "metadata": {},
   "outputs": [],
   "source": [
    "df.write.mode('Overwrite') \\\n",
    ".option(\"compression\", \"lz4\") \\\n",
    ".csv('result/scenario4/solution')"
   ]
  }
 ],
 "metadata": {
  "kernelspec": {
   "display_name": "Python 3",
   "language": "python",
   "name": "python3"
  },
  "language_info": {
   "codemirror_mode": {
    "name": "ipython",
    "version": 3
   },
   "file_extension": ".py",
   "mimetype": "text/x-python",
   "name": "python",
   "nbconvert_exporter": "python",
   "pygments_lexer": "ipython3",
   "version": "3.9.11"
  }
 },
 "nbformat": 4,
 "nbformat_minor": 5
}
