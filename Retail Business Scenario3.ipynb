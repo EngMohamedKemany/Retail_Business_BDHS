{
 "cells": [
  {
   "cell_type": "code",
   "execution_count": 1,
   "id": "ac9ce112",
   "metadata": {},
   "outputs": [],
   "source": [
    "import pyspark\n",
    "from pyspark.sql import SparkSession\n",
    "\n",
    "spark = SparkSession.builder \\\n",
    "        .master(\"local[*]\") \\\n",
    "        .getOrCreate()"
   ]
  },
  {
   "cell_type": "code",
   "execution_count": 4,
   "id": "98d84a60",
   "metadata": {},
   "outputs": [],
   "source": [
    "import pandas as pd\n",
    "from pyspark.sql import functions as F"
   ]
  },
  {
   "cell_type": "code",
   "execution_count": 5,
   "id": "115cdad4",
   "metadata": {},
   "outputs": [],
   "source": [
    "path = \"data-files/customers-tab-delimited/part-m-00000\""
   ]
  },
  {
   "cell_type": "code",
   "execution_count": 10,
   "id": "1aaf829f",
   "metadata": {},
   "outputs": [],
   "source": [
    "from pyspark.sql import types\n",
    "\n",
    "schema = types.StructType([\n",
    "types.StructField('id', types.IntegerType(), True),\n",
    "types.StructField('first_name', types.StringType(), True), \n",
    "types.StructField('last_name', types.StringType(), True), \n",
    "types.StructField('email', types.StringType(), True), \n",
    "types.StructField('password', types.StringType(), True),\n",
    "types.StructField('street', types.StringType(), True),\n",
    "types.StructField('city', types.StringType(), True), \n",
    "types.StructField('state', types.StringType(), True),\n",
    "types.StructField('zipcode', types.IntegerType(), True)\n",
    "\n",
    "])"
   ]
  },
  {
   "cell_type": "code",
   "execution_count": 11,
   "id": "87e8eac2",
   "metadata": {},
   "outputs": [],
   "source": [
    "df =  spark.read.format('csv')\\\n",
    ".schema(schema)\\\n",
    ".option('sep', r'\\t')\\\n",
    ".load(path)"
   ]
  },
  {
   "cell_type": "code",
   "execution_count": 12,
   "id": "3ff49d51",
   "metadata": {},
   "outputs": [
    {
     "data": {
      "text/plain": [
       "StructType([StructField('id', IntegerType(), True), StructField('first_name', StringType(), True), StructField('last_name', StringType(), True), StructField('email', StringType(), True), StructField('password', StringType(), True), StructField('street', StringType(), True), StructField('city', StringType(), True), StructField('state', StringType(), True), StructField('zipcode', IntegerType(), True)])"
      ]
     },
     "execution_count": 12,
     "metadata": {},
     "output_type": "execute_result"
    }
   ],
   "source": [
    "df.schema"
   ]
  },
  {
   "cell_type": "code",
   "execution_count": 13,
   "id": "44218ef8",
   "metadata": {},
   "outputs": [],
   "source": [
    "result = df.filter(df.city == \"Caguas\")"
   ]
  },
  {
   "cell_type": "code",
   "execution_count": 14,
   "id": "22a5d673",
   "metadata": {},
   "outputs": [
    {
     "name": "stdout",
     "output_type": "stream",
     "text": [
      "+---+----------+---------+---------+---------+--------------------+------+-----+-------+\n",
      "| id|first_name|last_name|    email| password|              street|  city|state|zipcode|\n",
      "+---+----------+---------+---------+---------+--------------------+------+-----+-------+\n",
      "|  3|       Ann|    Smith|XXXXXXXXX|XXXXXXXXX|3422 Blue Pioneer...|Caguas|   PR|    725|\n",
      "|  5|    Robert|   Hudson|XXXXXXXXX|XXXXXXXXX|10 Crystal River ...|Caguas|   PR|    725|\n",
      "|  7|   Melissa|   Wilcox|XXXXXXXXX|XXXXXXXXX|9453 High Concession|Caguas|   PR|    725|\n",
      "|  9|      Mary|    Perez|XXXXXXXXX|XXXXXXXXX| 3616 Quaking Street|Caguas|   PR|    725|\n",
      "| 11|      Mary|  Huffman|XXXXXXXXX|XXXXXXXXX|    3169 Stony Woods|Caguas|   PR|    725|\n",
      "| 13|      Mary|  Baldwin|XXXXXXXXX|XXXXXXXXX|7922 Iron Oak Gar...|Caguas|   PR|    725|\n",
      "| 16|   Tiffany|    Smith|XXXXXXXXX|XXXXXXXXX|      6651 Iron Port|Caguas|   PR|    725|\n",
      "| 19| Stephanie| Mitchell|XXXXXXXXX|XXXXXXXXX|3543 Red Treasure...|Caguas|   PR|    725|\n",
      "| 21|   William|Zimmerman|XXXXXXXXX|XXXXXXXXX|3323 Old Willow M...|Caguas|   PR|    725|\n",
      "| 24|      Mary|    Smith|XXXXXXXXX|XXXXXXXXX| 9417 Emerald Towers|Caguas|   PR|    725|\n",
      "| 27|      Mary|  Vincent|XXXXXXXXX|XXXXXXXXX|1768 Sleepy Zephy...|Caguas|   PR|    725|\n",
      "| 30|   Barbara|    Smith|XXXXXXXXX|XXXXXXXXX|   2455 Merry Hollow|Caguas|   PR|    725|\n",
      "| 32|     Alice|    Smith|XXXXXXXXX|XXXXXXXXX|   2082 Hidden Green|Caguas|   PR|    725|\n",
      "| 34|      Mary|    Smith|XXXXXXXXX|XXXXXXXXX|3330 Easy Berry R...|Caguas|   PR|    725|\n",
      "| 36|  Michelle|    Carey|XXXXXXXXX|XXXXXXXXX| 6336 Fallen Village|Caguas|   PR|    725|\n",
      "| 39|      Juan| Mckinney|XXXXXXXXX|XXXXXXXXX|7274 Blue Wagon  ...|Caguas|   PR|    725|\n",
      "| 43|      Mary|  Herring|XXXXXXXXX|XXXXXXXXX|   4575 Thunder Dale|Caguas|   PR|    725|\n",
      "| 47|      Lori|   Fuller|XXXXXXXXX|XXXXXXXXX|      357 Noble Lane|Caguas|   PR|    725|\n",
      "| 49|    Martha|    Smith|XXXXXXXXX|XXXXXXXXX|    7449 Merry Chase|Caguas|   PR|    725|\n",
      "| 51|   Jessica|    Smith|XXXXXXXXX|XXXXXXXXX|8344 Dewy Fawn Farms|Caguas|   PR|    725|\n",
      "+---+----------+---------+---------+---------+--------------------+------+-----+-------+\n",
      "only showing top 20 rows\n",
      "\n"
     ]
    }
   ],
   "source": [
    "result.show()"
   ]
  },
  {
   "cell_type": "code",
   "execution_count": 15,
   "id": "a9d444d7",
   "metadata": {},
   "outputs": [],
   "source": [
    "result.write.mode('Overwrite') \\\n",
    ".option(\"compression\", \"snappy\") \\\n",
    ".orc('result/scenario3/solution')"
   ]
  },
  {
   "cell_type": "code",
   "execution_count": 16,
   "id": "b72064b6",
   "metadata": {},
   "outputs": [],
   "source": [
    "cust_orc =   spark.read.format('orc')\\\n",
    "                .load('result/scenario3/solution/*.orc')"
   ]
  },
  {
   "cell_type": "code",
   "execution_count": 17,
   "id": "612281ad",
   "metadata": {},
   "outputs": [
    {
     "name": "stdout",
     "output_type": "stream",
     "text": [
      "+---+----------+---------+---------+---------+--------------------+------+-----+-------+\n",
      "| id|first_name|last_name|    email| password|              street|  city|state|zipcode|\n",
      "+---+----------+---------+---------+---------+--------------------+------+-----+-------+\n",
      "|  3|       Ann|    Smith|XXXXXXXXX|XXXXXXXXX|3422 Blue Pioneer...|Caguas|   PR|    725|\n",
      "|  5|    Robert|   Hudson|XXXXXXXXX|XXXXXXXXX|10 Crystal River ...|Caguas|   PR|    725|\n",
      "|  7|   Melissa|   Wilcox|XXXXXXXXX|XXXXXXXXX|9453 High Concession|Caguas|   PR|    725|\n",
      "|  9|      Mary|    Perez|XXXXXXXXX|XXXXXXXXX| 3616 Quaking Street|Caguas|   PR|    725|\n",
      "| 11|      Mary|  Huffman|XXXXXXXXX|XXXXXXXXX|    3169 Stony Woods|Caguas|   PR|    725|\n",
      "| 13|      Mary|  Baldwin|XXXXXXXXX|XXXXXXXXX|7922 Iron Oak Gar...|Caguas|   PR|    725|\n",
      "| 16|   Tiffany|    Smith|XXXXXXXXX|XXXXXXXXX|      6651 Iron Port|Caguas|   PR|    725|\n",
      "| 19| Stephanie| Mitchell|XXXXXXXXX|XXXXXXXXX|3543 Red Treasure...|Caguas|   PR|    725|\n",
      "| 21|   William|Zimmerman|XXXXXXXXX|XXXXXXXXX|3323 Old Willow M...|Caguas|   PR|    725|\n",
      "| 24|      Mary|    Smith|XXXXXXXXX|XXXXXXXXX| 9417 Emerald Towers|Caguas|   PR|    725|\n",
      "| 27|      Mary|  Vincent|XXXXXXXXX|XXXXXXXXX|1768 Sleepy Zephy...|Caguas|   PR|    725|\n",
      "| 30|   Barbara|    Smith|XXXXXXXXX|XXXXXXXXX|   2455 Merry Hollow|Caguas|   PR|    725|\n",
      "| 32|     Alice|    Smith|XXXXXXXXX|XXXXXXXXX|   2082 Hidden Green|Caguas|   PR|    725|\n",
      "| 34|      Mary|    Smith|XXXXXXXXX|XXXXXXXXX|3330 Easy Berry R...|Caguas|   PR|    725|\n",
      "| 36|  Michelle|    Carey|XXXXXXXXX|XXXXXXXXX| 6336 Fallen Village|Caguas|   PR|    725|\n",
      "| 39|      Juan| Mckinney|XXXXXXXXX|XXXXXXXXX|7274 Blue Wagon  ...|Caguas|   PR|    725|\n",
      "| 43|      Mary|  Herring|XXXXXXXXX|XXXXXXXXX|   4575 Thunder Dale|Caguas|   PR|    725|\n",
      "| 47|      Lori|   Fuller|XXXXXXXXX|XXXXXXXXX|      357 Noble Lane|Caguas|   PR|    725|\n",
      "| 49|    Martha|    Smith|XXXXXXXXX|XXXXXXXXX|    7449 Merry Chase|Caguas|   PR|    725|\n",
      "| 51|   Jessica|    Smith|XXXXXXXXX|XXXXXXXXX|8344 Dewy Fawn Farms|Caguas|   PR|    725|\n",
      "+---+----------+---------+---------+---------+--------------------+------+-----+-------+\n",
      "only showing top 20 rows\n",
      "\n"
     ]
    }
   ],
   "source": [
    "cust_orc.show()"
   ]
  }
 ],
 "metadata": {
  "kernelspec": {
   "display_name": "Python 3",
   "language": "python",
   "name": "python3"
  },
  "language_info": {
   "codemirror_mode": {
    "name": "ipython",
    "version": 3
   },
   "file_extension": ".py",
   "mimetype": "text/x-python",
   "name": "python",
   "nbconvert_exporter": "python",
   "pygments_lexer": "ipython3",
   "version": "3.9.11"
  }
 },
 "nbformat": 4,
 "nbformat_minor": 5
}
