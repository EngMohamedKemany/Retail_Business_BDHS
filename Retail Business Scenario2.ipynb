{
 "cells": [
  {
   "cell_type": "markdown",
   "id": "ec197590",
   "metadata": {},
   "source": [
    "# Task 2"
   ]
  },
  {
   "cell_type": "code",
   "execution_count": 16,
   "id": "8646cec7",
   "metadata": {},
   "outputs": [],
   "source": [
    "import pyspark\n",
    "from pyspark.sql import SparkSession\n",
    "\n",
    "spark = SparkSession.builder \\\n",
    "        .master(\"local[*]\") \\\n",
    "        .getOrCreate()"
   ]
  },
  {
   "cell_type": "markdown",
   "id": "bccaccdc",
   "metadata": {
    "heading_collapsed": true
   },
   "source": [
    "### Fixing parquet files bug"
   ]
  },
  {
   "cell_type": "code",
   "execution_count": 17,
   "id": "22935c18",
   "metadata": {
    "hidden": true
   },
   "outputs": [],
   "source": [
    "import numpy as np\n",
    "schema = {'order_id': np.int32, 'order_date': str, 'order_customer_id': np.int32, 'order_status': str}"
   ]
  },
  {
   "cell_type": "code",
   "execution_count": 18,
   "id": "e2fa7e0a",
   "metadata": {
    "hidden": true
   },
   "outputs": [],
   "source": [
    "import pandas as pd"
   ]
  },
  {
   "cell_type": "code",
   "execution_count": 19,
   "id": "feb587cc",
   "metadata": {
    "hidden": true
   },
   "outputs": [],
   "source": [
    "orders_csv = pd.read_csv('data-files/orders/part-m-00000', header = None,\\\n",
    "                         names = ['order_id', 'order_date', 'order_customer_id', 'order_status'], \\\n",
    "                         dtype = schema)"
   ]
  },
  {
   "cell_type": "code",
   "execution_count": 20,
   "id": "518bb0e1",
   "metadata": {
    "hidden": true
   },
   "outputs": [],
   "source": [
    "orders_csv[\"order_date\"]= pd.to_datetime(orders_csv[\"order_date\"])"
   ]
  },
  {
   "cell_type": "code",
   "execution_count": 21,
   "id": "24473b6c",
   "metadata": {
    "hidden": true
   },
   "outputs": [
    {
     "data": {
      "text/plain": [
       "order_id                      int32\n",
       "order_date           datetime64[ns]\n",
       "order_customer_id             int32\n",
       "order_status                 object\n",
       "dtype: object"
      ]
     },
     "execution_count": 21,
     "metadata": {},
     "output_type": "execute_result"
    }
   ],
   "source": [
    "orders_csv.dtypes"
   ]
  },
  {
   "cell_type": "code",
   "execution_count": 22,
   "id": "564a502c",
   "metadata": {
    "hidden": true
   },
   "outputs": [],
   "source": [
    "orders_csv.to_parquet('./data-files/orders_parquet/orders_parquet.parquet')"
   ]
  },
  {
   "cell_type": "code",
   "execution_count": 23,
   "id": "52fb9f36",
   "metadata": {
    "hidden": true
   },
   "outputs": [],
   "source": [
    "#!parquet-tools show data-files/orders_parquet/orders_parquet.parquet"
   ]
  },
  {
   "cell_type": "markdown",
   "id": "0628e3d5",
   "metadata": {},
   "source": [
    "## Start Here"
   ]
  },
  {
   "cell_type": "code",
   "execution_count": 24,
   "id": "4d19a821",
   "metadata": {},
   "outputs": [],
   "source": [
    "path_orders_pq = \"data-files/orders_parquet/orders_parquet.parquet\""
   ]
  },
  {
   "cell_type": "code",
   "execution_count": 25,
   "id": "a49091b1",
   "metadata": {},
   "outputs": [],
   "source": [
    "df_orders =  spark.read.format('parquet')\\\n",
    "            .load(path_orders_pq)"
   ]
  },
  {
   "cell_type": "code",
   "execution_count": 26,
   "id": "0a419868",
   "metadata": {},
   "outputs": [
    {
     "data": {
      "text/plain": [
       "StructType([StructField('order_id', IntegerType(), True), StructField('order_date', TimestampType(), True), StructField('order_customer_id', IntegerType(), True), StructField('order_status', StringType(), True)])"
      ]
     },
     "execution_count": 26,
     "metadata": {},
     "output_type": "execute_result"
    }
   ],
   "source": [
    "df_orders.schema"
   ]
  },
  {
   "cell_type": "code",
   "execution_count": 27,
   "id": "eb5c53b7",
   "metadata": {},
   "outputs": [],
   "source": [
    "result_orders = df_orders.filter(df_orders.order_status == \"COMPLETE\")"
   ]
  },
  {
   "cell_type": "code",
   "execution_count": 28,
   "id": "11d8ea4e",
   "metadata": {},
   "outputs": [],
   "source": [
    "from pyspark.sql.functions import to_date\n",
    "from pyspark.sql import functions as F"
   ]
  },
  {
   "cell_type": "code",
   "execution_count": 29,
   "id": "c8fef8c3",
   "metadata": {},
   "outputs": [],
   "source": [
    "result_orders = result_orders.select(F.col('order_id'), to_date(F.col('order_date')).alias('order_date'), \\\n",
    "                     F.col('order_customer_id'), F.col('order_status'))"
   ]
  },
  {
   "cell_type": "code",
   "execution_count": 30,
   "id": "3947eee3",
   "metadata": {},
   "outputs": [],
   "source": [
    "result_orders.write.mode('Overwrite') \\\n",
    ".option(\"compression\", \"gzip\") \\\n",
    ".json('C:/Users/DevAdmin/MohyWorkSpace/Retail_Proj/result/scenario2/solution')"
   ]
  },
  {
   "cell_type": "code",
   "execution_count": 31,
   "id": "043b86c5",
   "metadata": {},
   "outputs": [],
   "source": [
    "orders_json =   spark.read.format('json')\\\n",
    "                .load('Retail_Proj/result/scenario2/solution/*.gz')"
   ]
  },
  {
   "cell_type": "code",
   "execution_count": 32,
   "id": "583011ae",
   "metadata": {},
   "outputs": [
    {
     "name": "stdout",
     "output_type": "stream",
     "text": [
      "+-----------------+----------+--------+------------+\n",
      "|order_customer_id|order_date|order_id|order_status|\n",
      "+-----------------+----------+--------+------------+\n",
      "|            12111|2013-07-25|       3|    COMPLETE|\n",
      "|            11318|2013-07-25|       5|    COMPLETE|\n",
      "|             7130|2013-07-25|       6|    COMPLETE|\n",
      "|             4530|2013-07-25|       7|    COMPLETE|\n",
      "|             2568|2013-07-25|      15|    COMPLETE|\n",
      "|             2667|2013-07-25|      17|    COMPLETE|\n",
      "|              333|2013-07-25|      22|    COMPLETE|\n",
      "|             7562|2013-07-25|      26|    COMPLETE|\n",
      "|              656|2013-07-25|      28|    COMPLETE|\n",
      "|             3960|2013-07-25|      32|    COMPLETE|\n",
      "|             4840|2013-07-25|      35|    COMPLETE|\n",
      "|             2636|2013-07-25|      45|    COMPLETE|\n",
      "|            10519|2013-07-25|      56|    COMPLETE|\n",
      "|             1148|2013-07-25|      63|    COMPLETE|\n",
      "|             5903|2013-07-25|      65|    COMPLETE|\n",
      "|             1406|2013-07-25|      67|    COMPLETE|\n",
      "|             8646|2013-07-25|      71|    COMPLETE|\n",
      "|             4349|2013-07-25|      72|    COMPLETE|\n",
      "|             6898|2013-07-25|      76|    COMPLETE|\n",
      "|             3007|2013-07-25|      80|    COMPLETE|\n",
      "+-----------------+----------+--------+------------+\n",
      "only showing top 20 rows\n",
      "\n"
     ]
    }
   ],
   "source": [
    "orders_json.show()"
   ]
  }
 ],
 "metadata": {
  "kernelspec": {
   "display_name": "Python 3",
   "language": "python",
   "name": "python3"
  },
  "language_info": {
   "codemirror_mode": {
    "name": "ipython",
    "version": 3
   },
   "file_extension": ".py",
   "mimetype": "text/x-python",
   "name": "python",
   "nbconvert_exporter": "python",
   "pygments_lexer": "ipython3",
   "version": "3.9.11"
  }
 },
 "nbformat": 4,
 "nbformat_minor": 5
}
