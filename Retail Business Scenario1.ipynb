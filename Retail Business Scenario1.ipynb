{
 "cells": [
  {
   "cell_type": "code",
   "execution_count": 2,
   "id": "0af72a27",
   "metadata": {},
   "outputs": [],
   "source": [
    "import pandas as pd"
   ]
  },
  {
   "cell_type": "code",
   "execution_count": 3,
   "id": "92f6e43b",
   "metadata": {},
   "outputs": [],
   "source": [
    "import pyspark\n",
    "from pyspark.sql import SparkSession\n",
    "\n",
    "spark = SparkSession.builder \\\n",
    "        .master(\"local[*]\") \\\n",
    "        .getOrCreate()"
   ]
  },
  {
   "cell_type": "code",
   "execution_count": 9,
   "id": "8218a2ba",
   "metadata": {},
   "outputs": [
    {
     "data": {
      "text/html": [
       "\n",
       "            <div>\n",
       "                <p><b>SparkSession - in-memory</b></p>\n",
       "                \n",
       "        <div>\n",
       "            <p><b>SparkContext</b></p>\n",
       "\n",
       "            <p><a href=\"http://MOETD0216913.mshome.net:4040\">Spark UI</a></p>\n",
       "\n",
       "            <dl>\n",
       "              <dt>Version</dt>\n",
       "                <dd><code>v3.3.1</code></dd>\n",
       "              <dt>Master</dt>\n",
       "                <dd><code>local[*]</code></dd>\n",
       "              <dt>AppName</dt>\n",
       "                <dd><code>pyspark-shell</code></dd>\n",
       "            </dl>\n",
       "        </div>\n",
       "        \n",
       "            </div>\n",
       "        "
      ],
      "text/plain": [
       "<pyspark.sql.session.SparkSession at 0x1d03e6a3910>"
      ]
     },
     "execution_count": 9,
     "metadata": {},
     "output_type": "execute_result"
    }
   ],
   "source": [
    "spark"
   ]
  },
  {
   "cell_type": "code",
   "execution_count": 4,
   "id": "5fcc9e5d",
   "metadata": {},
   "outputs": [],
   "source": [
    "path = \"data-files/customers-tab-delimited/part-m-00000\""
   ]
  },
  {
   "cell_type": "code",
   "execution_count": 5,
   "id": "3c0705db",
   "metadata": {},
   "outputs": [],
   "source": [
    "from pyspark.sql import types\n",
    "\n",
    "schema = types.StructType([\n",
    "types.StructField('id', types.StringType(), True),\n",
    "types.StructField('first_name', types.StringType(), True), \n",
    "types.StructField('last_name', types.StringType(), True), \n",
    "types.StructField('email', types.StringType(), True), \n",
    "types.StructField('password', types.StringType(), True),\n",
    "types.StructField('street', types.StringType(), True),\n",
    "types.StructField('city', types.StringType(), True), \n",
    "types.StructField('state', types.StringType(), True),\n",
    "types.StructField('zipcode', types.StringType(), True)\n",
    "\n",
    "])"
   ]
  },
  {
   "cell_type": "code",
   "execution_count": 6,
   "id": "d0af2007",
   "metadata": {},
   "outputs": [],
   "source": [
    "df =  spark.read.format('csv')\\\n",
    ".schema(schema)\\\n",
    ".option('sep', r'\\t')\\\n",
    ".load(path)"
   ]
  },
  {
   "cell_type": "markdown",
   "id": "4e852733",
   "metadata": {
    "heading_collapsed": true
   },
   "source": [
    "## Trial with pandas"
   ]
  },
  {
   "cell_type": "code",
   "execution_count": 187,
   "id": "338e0d25",
   "metadata": {
    "hidden": true
   },
   "outputs": [],
   "source": [
    "df_pandas= df.toPandas()"
   ]
  },
  {
   "cell_type": "code",
   "execution_count": 188,
   "id": "3e9b13a1",
   "metadata": {
    "hidden": true
   },
   "outputs": [
    {
     "data": {
      "text/html": [
       "<div>\n",
       "<style scoped>\n",
       "    .dataframe tbody tr th:only-of-type {\n",
       "        vertical-align: middle;\n",
       "    }\n",
       "\n",
       "    .dataframe tbody tr th {\n",
       "        vertical-align: top;\n",
       "    }\n",
       "\n",
       "    .dataframe thead th {\n",
       "        text-align: right;\n",
       "    }\n",
       "</style>\n",
       "<table border=\"1\" class=\"dataframe\">\n",
       "  <thead>\n",
       "    <tr style=\"text-align: right;\">\n",
       "      <th></th>\n",
       "      <th>id</th>\n",
       "      <th>first_name</th>\n",
       "      <th>last_name</th>\n",
       "      <th>email</th>\n",
       "      <th>password</th>\n",
       "      <th>street</th>\n",
       "      <th>city</th>\n",
       "      <th>state</th>\n",
       "      <th>zipcode</th>\n",
       "    </tr>\n",
       "  </thead>\n",
       "  <tbody>\n",
       "    <tr>\n",
       "      <th>0</th>\n",
       "      <td>1</td>\n",
       "      <td>Richard</td>\n",
       "      <td>Hernandez</td>\n",
       "      <td>XXXXXXXXX</td>\n",
       "      <td>XXXXXXXXX</td>\n",
       "      <td>6303 Heather Plaza</td>\n",
       "      <td>Brownsville</td>\n",
       "      <td>TX</td>\n",
       "      <td>78521</td>\n",
       "    </tr>\n",
       "    <tr>\n",
       "      <th>1</th>\n",
       "      <td>2</td>\n",
       "      <td>Mary</td>\n",
       "      <td>Barrett</td>\n",
       "      <td>XXXXXXXXX</td>\n",
       "      <td>XXXXXXXXX</td>\n",
       "      <td>9526 Noble Embers Ridge</td>\n",
       "      <td>Littleton</td>\n",
       "      <td>CO</td>\n",
       "      <td>80126</td>\n",
       "    </tr>\n",
       "    <tr>\n",
       "      <th>2</th>\n",
       "      <td>3</td>\n",
       "      <td>Ann</td>\n",
       "      <td>Smith</td>\n",
       "      <td>XXXXXXXXX</td>\n",
       "      <td>XXXXXXXXX</td>\n",
       "      <td>3422 Blue Pioneer Bend</td>\n",
       "      <td>Caguas</td>\n",
       "      <td>PR</td>\n",
       "      <td>00725</td>\n",
       "    </tr>\n",
       "    <tr>\n",
       "      <th>3</th>\n",
       "      <td>4</td>\n",
       "      <td>Mary</td>\n",
       "      <td>Jones</td>\n",
       "      <td>XXXXXXXXX</td>\n",
       "      <td>XXXXXXXXX</td>\n",
       "      <td>8324 Little Common</td>\n",
       "      <td>San Marcos</td>\n",
       "      <td>CA</td>\n",
       "      <td>92069</td>\n",
       "    </tr>\n",
       "    <tr>\n",
       "      <th>4</th>\n",
       "      <td>5</td>\n",
       "      <td>Robert</td>\n",
       "      <td>Hudson</td>\n",
       "      <td>XXXXXXXXX</td>\n",
       "      <td>XXXXXXXXX</td>\n",
       "      <td>10 Crystal River Mall</td>\n",
       "      <td>Caguas</td>\n",
       "      <td>PR</td>\n",
       "      <td>00725</td>\n",
       "    </tr>\n",
       "  </tbody>\n",
       "</table>\n",
       "</div>"
      ],
      "text/plain": [
       "  id first_name  last_name      email   password                   street  \\\n",
       "0  1    Richard  Hernandez  XXXXXXXXX  XXXXXXXXX       6303 Heather Plaza   \n",
       "1  2       Mary    Barrett  XXXXXXXXX  XXXXXXXXX  9526 Noble Embers Ridge   \n",
       "2  3        Ann      Smith  XXXXXXXXX  XXXXXXXXX   3422 Blue Pioneer Bend   \n",
       "3  4       Mary      Jones  XXXXXXXXX  XXXXXXXXX       8324 Little Common   \n",
       "4  5     Robert     Hudson  XXXXXXXXX  XXXXXXXXX   10 Crystal River Mall    \n",
       "\n",
       "          city state zipcode  \n",
       "0  Brownsville    TX   78521  \n",
       "1    Littleton    CO   80126  \n",
       "2       Caguas    PR   00725  \n",
       "3   San Marcos    CA   92069  \n",
       "4       Caguas    PR   00725  "
      ]
     },
     "execution_count": 188,
     "metadata": {},
     "output_type": "execute_result"
    }
   ],
   "source": [
    "df_pandas.head()"
   ]
  },
  {
   "cell_type": "code",
   "execution_count": 189,
   "id": "e3124f0f",
   "metadata": {
    "hidden": true
   },
   "outputs": [],
   "source": [
    "ls = df_pandas['state'].unique().tolist()"
   ]
  },
  {
   "cell_type": "code",
   "execution_count": 190,
   "id": "837a207c",
   "metadata": {
    "collapsed": true,
    "hidden": true
   },
   "outputs": [
    {
     "data": {
      "text/plain": [
       "['AL',\n",
       " 'AR',\n",
       " 'AZ',\n",
       " 'CA',\n",
       " 'CO',\n",
       " 'CT',\n",
       " 'DC',\n",
       " 'DE',\n",
       " 'FL',\n",
       " 'GA',\n",
       " 'HI',\n",
       " 'IA',\n",
       " 'ID',\n",
       " 'IL',\n",
       " 'IN',\n",
       " 'KS',\n",
       " 'KY',\n",
       " 'LA',\n",
       " 'MA',\n",
       " 'MD',\n",
       " 'MI',\n",
       " 'MN',\n",
       " 'MO',\n",
       " 'MT',\n",
       " 'NC',\n",
       " 'ND',\n",
       " 'NJ',\n",
       " 'NM',\n",
       " 'NV',\n",
       " 'NY',\n",
       " 'OH',\n",
       " 'OK',\n",
       " 'OR',\n",
       " 'PA',\n",
       " 'PR',\n",
       " 'RI',\n",
       " 'SC',\n",
       " 'TN',\n",
       " 'TX',\n",
       " 'UT',\n",
       " 'VA',\n",
       " 'WA',\n",
       " 'WI',\n",
       " 'WV']"
      ]
     },
     "execution_count": 190,
     "metadata": {},
     "output_type": "execute_result"
    }
   ],
   "source": [
    "sorted(ls)"
   ]
  },
  {
   "cell_type": "code",
   "execution_count": 191,
   "id": "eced5234",
   "metadata": {
    "hidden": true
   },
   "outputs": [
    {
     "data": {
      "text/html": [
       "<div>\n",
       "<style scoped>\n",
       "    .dataframe tbody tr th:only-of-type {\n",
       "        vertical-align: middle;\n",
       "    }\n",
       "\n",
       "    .dataframe tbody tr th {\n",
       "        vertical-align: top;\n",
       "    }\n",
       "\n",
       "    .dataframe thead th {\n",
       "        text-align: right;\n",
       "    }\n",
       "</style>\n",
       "<table border=\"1\" class=\"dataframe\">\n",
       "  <thead>\n",
       "    <tr style=\"text-align: right;\">\n",
       "      <th></th>\n",
       "      <th>id</th>\n",
       "      <th>first_name</th>\n",
       "      <th>last_name</th>\n",
       "      <th>email</th>\n",
       "      <th>password</th>\n",
       "      <th>street</th>\n",
       "      <th>city</th>\n",
       "      <th>state</th>\n",
       "      <th>zipcode</th>\n",
       "    </tr>\n",
       "  </thead>\n",
       "  <tbody>\n",
       "    <tr>\n",
       "      <th>3</th>\n",
       "      <td>4</td>\n",
       "      <td>Mary</td>\n",
       "      <td>Jones</td>\n",
       "      <td>XXXXXXXXX</td>\n",
       "      <td>XXXXXXXXX</td>\n",
       "      <td>8324 Little Common</td>\n",
       "      <td>San Marcos</td>\n",
       "      <td>CA</td>\n",
       "      <td>92069</td>\n",
       "    </tr>\n",
       "    <tr>\n",
       "      <th>13</th>\n",
       "      <td>14</td>\n",
       "      <td>Katherine</td>\n",
       "      <td>Smith</td>\n",
       "      <td>XXXXXXXXX</td>\n",
       "      <td>XXXXXXXXX</td>\n",
       "      <td>5666 Hazy Pony Square</td>\n",
       "      <td>Pico Rivera</td>\n",
       "      <td>CA</td>\n",
       "      <td>90660</td>\n",
       "    </tr>\n",
       "    <tr>\n",
       "      <th>14</th>\n",
       "      <td>15</td>\n",
       "      <td>Jane</td>\n",
       "      <td>Luna</td>\n",
       "      <td>XXXXXXXXX</td>\n",
       "      <td>XXXXXXXXX</td>\n",
       "      <td>673 Burning Glen</td>\n",
       "      <td>Fontana</td>\n",
       "      <td>CA</td>\n",
       "      <td>92336</td>\n",
       "    </tr>\n",
       "    <tr>\n",
       "      <th>17</th>\n",
       "      <td>18</td>\n",
       "      <td>Robert</td>\n",
       "      <td>Smith</td>\n",
       "      <td>XXXXXXXXX</td>\n",
       "      <td>XXXXXXXXX</td>\n",
       "      <td>2734 Hazy Butterfly Circle</td>\n",
       "      <td>Martinez</td>\n",
       "      <td>CA</td>\n",
       "      <td>94553</td>\n",
       "    </tr>\n",
       "    <tr>\n",
       "      <th>34</th>\n",
       "      <td>35</td>\n",
       "      <td>Margaret</td>\n",
       "      <td>Wright</td>\n",
       "      <td>XXXXXXXXX</td>\n",
       "      <td>XXXXXXXXX</td>\n",
       "      <td>9456 Sleepy Jetty</td>\n",
       "      <td>Oceanside</td>\n",
       "      <td>CA</td>\n",
       "      <td>92056</td>\n",
       "    </tr>\n",
       "    <tr>\n",
       "      <th>...</th>\n",
       "      <td>...</td>\n",
       "      <td>...</td>\n",
       "      <td>...</td>\n",
       "      <td>...</td>\n",
       "      <td>...</td>\n",
       "      <td>...</td>\n",
       "      <td>...</td>\n",
       "      <td>...</td>\n",
       "      <td>...</td>\n",
       "    </tr>\n",
       "    <tr>\n",
       "      <th>12400</th>\n",
       "      <td>12401</td>\n",
       "      <td>Angela</td>\n",
       "      <td>Gray</td>\n",
       "      <td>XXXXXXXXX</td>\n",
       "      <td>XXXXXXXXX</td>\n",
       "      <td>109 Hazy Heath</td>\n",
       "      <td>Los Angeles</td>\n",
       "      <td>CA</td>\n",
       "      <td>90033</td>\n",
       "    </tr>\n",
       "    <tr>\n",
       "      <th>12402</th>\n",
       "      <td>12403</td>\n",
       "      <td>Richard</td>\n",
       "      <td>Ferguson</td>\n",
       "      <td>XXXXXXXXX</td>\n",
       "      <td>XXXXXXXXX</td>\n",
       "      <td>5382 Hazy Pathway</td>\n",
       "      <td>Cypress</td>\n",
       "      <td>CA</td>\n",
       "      <td>90630</td>\n",
       "    </tr>\n",
       "    <tr>\n",
       "      <th>12422</th>\n",
       "      <td>12423</td>\n",
       "      <td>Stephen</td>\n",
       "      <td>Smith</td>\n",
       "      <td>XXXXXXXXX</td>\n",
       "      <td>XXXXXXXXX</td>\n",
       "      <td>3445 Harvest Campus</td>\n",
       "      <td>Palmdale</td>\n",
       "      <td>CA</td>\n",
       "      <td>93550</td>\n",
       "    </tr>\n",
       "    <tr>\n",
       "      <th>12423</th>\n",
       "      <td>12424</td>\n",
       "      <td>Judy</td>\n",
       "      <td>Phillips</td>\n",
       "      <td>XXXXXXXXX</td>\n",
       "      <td>XXXXXXXXX</td>\n",
       "      <td>4534 Cinder Concession</td>\n",
       "      <td>San Diego</td>\n",
       "      <td>CA</td>\n",
       "      <td>92111</td>\n",
       "    </tr>\n",
       "    <tr>\n",
       "      <th>12428</th>\n",
       "      <td>12429</td>\n",
       "      <td>Mary</td>\n",
       "      <td>Smith</td>\n",
       "      <td>XXXXXXXXX</td>\n",
       "      <td>XXXXXXXXX</td>\n",
       "      <td>92 Sunny Bear Villas</td>\n",
       "      <td>Gardena</td>\n",
       "      <td>CA</td>\n",
       "      <td>90247</td>\n",
       "    </tr>\n",
       "  </tbody>\n",
       "</table>\n",
       "<p>2012 rows × 9 columns</p>\n",
       "</div>"
      ],
      "text/plain": [
       "          id first_name last_name      email   password  \\\n",
       "3          4       Mary     Jones  XXXXXXXXX  XXXXXXXXX   \n",
       "13        14  Katherine     Smith  XXXXXXXXX  XXXXXXXXX   \n",
       "14        15       Jane      Luna  XXXXXXXXX  XXXXXXXXX   \n",
       "17        18     Robert     Smith  XXXXXXXXX  XXXXXXXXX   \n",
       "34        35   Margaret    Wright  XXXXXXXXX  XXXXXXXXX   \n",
       "...      ...        ...       ...        ...        ...   \n",
       "12400  12401     Angela      Gray  XXXXXXXXX  XXXXXXXXX   \n",
       "12402  12403    Richard  Ferguson  XXXXXXXXX  XXXXXXXXX   \n",
       "12422  12423    Stephen     Smith  XXXXXXXXX  XXXXXXXXX   \n",
       "12423  12424       Judy  Phillips  XXXXXXXXX  XXXXXXXXX   \n",
       "12428  12429       Mary     Smith  XXXXXXXXX  XXXXXXXXX   \n",
       "\n",
       "                           street         city state zipcode  \n",
       "3              8324 Little Common   San Marcos    CA   92069  \n",
       "13          5666 Hazy Pony Square  Pico Rivera    CA   90660  \n",
       "14               673 Burning Glen      Fontana    CA   92336  \n",
       "17     2734 Hazy Butterfly Circle     Martinez    CA   94553  \n",
       "34              9456 Sleepy Jetty    Oceanside    CA   92056  \n",
       "...                           ...          ...   ...     ...  \n",
       "12400              109 Hazy Heath  Los Angeles    CA   90033  \n",
       "12402           5382 Hazy Pathway      Cypress    CA   90630  \n",
       "12422         3445 Harvest Campus     Palmdale    CA   93550  \n",
       "12423      4534 Cinder Concession    San Diego    CA   92111  \n",
       "12428        92 Sunny Bear Villas      Gardena    CA   90247  \n",
       "\n",
       "[2012 rows x 9 columns]"
      ]
     },
     "execution_count": 191,
     "metadata": {},
     "output_type": "execute_result"
    }
   ],
   "source": [
    "df_pandas[df_pandas['state'] == 'CA']"
   ]
  },
  {
   "cell_type": "code",
   "execution_count": 192,
   "id": "f1182f45",
   "metadata": {
    "hidden": true
   },
   "outputs": [
    {
     "name": "stdout",
     "output_type": "stream",
     "text": [
      "+-----------+---------+\n",
      "| first_name|last_name|\n",
      "+-----------+---------+\n",
      "|    Richard|Hernandez|\n",
      "|       Mary|  Barrett|\n",
      "|        Ann|    Smith|\n",
      "|       Mary|    Jones|\n",
      "|     Robert|   Hudson|\n",
      "|       Mary|    Smith|\n",
      "|    Melissa|   Wilcox|\n",
      "|      Megan|    Smith|\n",
      "|       Mary|    Perez|\n",
      "|    Melissa|    Smith|\n",
      "|       Mary|  Huffman|\n",
      "|Christopher|    Smith|\n",
      "|       Mary|  Baldwin|\n",
      "|  Katherine|    Smith|\n",
      "|       Jane|     Luna|\n",
      "|    Tiffany|    Smith|\n",
      "|       Mary| Robinson|\n",
      "|     Robert|    Smith|\n",
      "|  Stephanie| Mitchell|\n",
      "|       Mary|    Ellis|\n",
      "+-----------+---------+\n",
      "only showing top 20 rows\n",
      "\n"
     ]
    }
   ],
   "source": [
    "from pyspark.sql.functions import col\n",
    "df.select(col(\"first_name\"),col(\"last_name\")).show()"
   ]
  },
  {
   "cell_type": "markdown",
   "id": "4b78ddfb",
   "metadata": {},
   "source": [
    "## Start Here"
   ]
  },
  {
   "cell_type": "code",
   "execution_count": 8,
   "id": "f2e13738",
   "metadata": {},
   "outputs": [],
   "source": [
    "result = df.filter(df.state == \"CA\")"
   ]
  },
  {
   "cell_type": "code",
   "execution_count": 194,
   "id": "c856e12f",
   "metadata": {},
   "outputs": [
    {
     "data": {
      "text/plain": [
       "['id',\n",
       " 'first_name',\n",
       " 'last_name',\n",
       " 'email',\n",
       " 'password',\n",
       " 'street',\n",
       " 'city',\n",
       " 'state',\n",
       " 'zipcode']"
      ]
     },
     "execution_count": 194,
     "metadata": {},
     "output_type": "execute_result"
    }
   ],
   "source": [
    "result.columns"
   ]
  },
  {
   "cell_type": "code",
   "execution_count": 9,
   "id": "5ec6c6f0",
   "metadata": {},
   "outputs": [],
   "source": [
    "from pyspark.sql import functions\n",
    "from pyspark.sql.functions import concat\n"
   ]
  },
  {
   "cell_type": "code",
   "execution_count": 10,
   "id": "8d62e9a5",
   "metadata": {},
   "outputs": [],
   "source": [
    "from pyspark.sql import functions as F\n",
    "result=result.withColumn(\"row\",concat( \\\n",
    "    F.col('first_name'), F.lit(' '), \\\n",
    "    F.col('last_name')))"
   ]
  },
  {
   "cell_type": "code",
   "execution_count": 11,
   "id": "f3ddb5a5",
   "metadata": {},
   "outputs": [],
   "source": [
    "result = result.select(F.col('row'))"
   ]
  },
  {
   "cell_type": "code",
   "execution_count": 12,
   "id": "9ba378a5",
   "metadata": {},
   "outputs": [
    {
     "name": "stdout",
     "output_type": "stream",
     "text": [
      "+---------------+\n",
      "|row            |\n",
      "+---------------+\n",
      "|Mary Jones     |\n",
      "|Katherine Smith|\n",
      "|Jane Luna      |\n",
      "|Robert Smith   |\n",
      "|Margaret Wright|\n",
      "|Mary Smith     |\n",
      "|Howard Smith   |\n",
      "|Mary Kim       |\n",
      "|Douglas James  |\n",
      "|Mary Simmons   |\n",
      "|Frank Gillespie|\n",
      "|Joseph Young   |\n",
      "|Sean Smith     |\n",
      "|Lauren Freeman |\n",
      "|Alice Warner   |\n",
      "|Mary Smith     |\n",
      "|Mary Gallagher |\n",
      "|Daniel Maxwell |\n",
      "|Shirley Mcclain|\n",
      "|Mary Smith     |\n",
      "+---------------+\n",
      "only showing top 20 rows\n",
      "\n"
     ]
    }
   ],
   "source": [
    "result.show(truncate=False)"
   ]
  },
  {
   "cell_type": "code",
   "execution_count": 199,
   "id": "ecebf885",
   "metadata": {},
   "outputs": [],
   "source": [
    "result.write.mode('Overwrite').text('result/scenario1/solution')"
   ]
  }
 ],
 "metadata": {
  "kernelspec": {
   "display_name": "Python 3",
   "language": "python",
   "name": "python3"
  },
  "language_info": {
   "codemirror_mode": {
    "name": "ipython",
    "version": 3
   },
   "file_extension": ".py",
   "mimetype": "text/x-python",
   "name": "python",
   "nbconvert_exporter": "python",
   "pygments_lexer": "ipython3",
   "version": "3.9.11"
  }
 },
 "nbformat": 4,
 "nbformat_minor": 5
}
